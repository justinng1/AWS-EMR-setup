{
 "cells": [
  {
   "cell_type": "code",
   "execution_count": 1,
   "metadata": {},
   "outputs": [],
   "source": [
    "import findspark\n",
    "findspark.init()"
   ]
  },
  {
   "cell_type": "code",
   "execution_count": 2,
   "metadata": {},
   "outputs": [
    {
     "name": "stdout",
     "output_type": "stream",
     "text": [
      "3.1216\n"
     ]
    }
   ],
   "source": [
    "# test if pyspark is working. Takes a minute to finish.\n",
    "import pyspark\n",
    "import random\n",
    "\n",
    "sc = pyspark.SparkContext(appName=\"Pi\")\n",
    "num_samples = 10000\n",
    "def inside(p):     \n",
    "  x, y = random.random(), random.random()\n",
    "  return x*x + y*y < 1\n",
    "count = sc.parallelize(range(0, num_samples)).filter(inside).count()\n",
    "pi = 4 * count / num_samples\n",
    "print(pi)\n",
    "sc.stop()"
   ]
  },
  {
   "cell_type": "code",
   "execution_count": 3,
   "metadata": {},
   "outputs": [
    {
     "data": {
      "text/html": [
       "\n",
       "            <div>\n",
       "                <p><b>SparkSession - in-memory</b></p>\n",
       "                \n",
       "        <div>\n",
       "            <p><b>SparkContext</b></p>\n",
       "\n",
       "            <p><a href=\"http://ip-172-31-28-150.us-west-2.compute.internal:4040\">Spark UI</a></p>\n",
       "\n",
       "            <dl>\n",
       "              <dt>Version</dt>\n",
       "                <dd><code>v2.2.1</code></dd>\n",
       "              <dt>Master</dt>\n",
       "                <dd><code>yarn</code></dd>\n",
       "              <dt>AppName</dt>\n",
       "                <dd><code>Python Spark SQL basic example</code></dd>\n",
       "            </dl>\n",
       "        </div>\n",
       "        \n",
       "            </div>\n",
       "        "
      ],
      "text/plain": [
       "<pyspark.sql.session.SparkSession at 0x7f2b29102470>"
      ]
     },
     "execution_count": 3,
     "metadata": {},
     "output_type": "execute_result"
    }
   ],
   "source": [
    "# create a SparkSession.\n",
    "from pyspark.sql import SparkSession\n",
    "\n",
    "spark = SparkSession \\\n",
    "    .builder \\\n",
    "    .appName(\"Python Spark SQL basic example\") \\\n",
    "    .config(\"spark.some.config.option\", \"some-value\") \\\n",
    "    .getOrCreate()\n",
    "spark    "
   ]
  },
  {
   "cell_type": "code",
   "execution_count": 4,
   "metadata": {},
   "outputs": [],
   "source": [
    "# reading CSV with custom schema.\n",
    "from pyspark.sql.types import *\n",
    "\n",
    "customSchema = StructType([ \\\n",
    "    StructField(\"account_id\", IntegerType(), True), \\\n",
    "    StructField(\"district_id\", IntegerType(), True), \\\n",
    "    StructField(\"frequency\", StringType(), True), \\\n",
    "    StructField(\"date\", IntegerType(), True)])"
   ]
  },
  {
   "cell_type": "code",
   "execution_count": 5,
   "metadata": {},
   "outputs": [],
   "source": [
    "df = spark.read.format('csv') \\\n",
    "          .option('header', 'true') \\\n",
    "          .option('delimiter', ';') \\\n",
    "          .load('s3://justinngbucket/Data/berka_dataset/account.asc', schema=customSchema)"
   ]
  },
  {
   "cell_type": "code",
   "execution_count": 6,
   "metadata": {},
   "outputs": [
    {
     "name": "stdout",
     "output_type": "stream",
     "text": [
      "+----------+-----------+------------------+------+\n",
      "|account_id|district_id|         frequency|  date|\n",
      "+----------+-----------+------------------+------+\n",
      "|       576|         55|  POPLATEK MESICNE|930101|\n",
      "|      3818|         74|  POPLATEK MESICNE|930101|\n",
      "|       704|         55|  POPLATEK MESICNE|930101|\n",
      "|      2378|         16|  POPLATEK MESICNE|930101|\n",
      "|      2632|         24|  POPLATEK MESICNE|930102|\n",
      "|      1972|         77|  POPLATEK MESICNE|930102|\n",
      "|      1539|          1|POPLATEK PO OBRATU|930103|\n",
      "|       793|         47|  POPLATEK MESICNE|930103|\n",
      "|      2484|         74|  POPLATEK MESICNE|930103|\n",
      "|      1695|         76|  POPLATEK MESICNE|930103|\n",
      "|      1726|         48|  POPLATEK MESICNE|930103|\n",
      "|      2881|         70|  POPLATEK MESICNE|930104|\n",
      "|      2357|         19|  POPLATEK MESICNE|930104|\n",
      "|      2177|         62|  POPLATEK MESICNE|930104|\n",
      "|       485|          6|POPLATEK PO OBRATU|930104|\n",
      "|       652|         21|  POPLATEK MESICNE|930105|\n",
      "|      9635|         70|  POPLATEK MESICNE|930105|\n",
      "|      1844|         44|  POPLATEK MESICNE|930106|\n",
      "|      1926|         37|  POPLATEK MESICNE|930106|\n",
      "|      2393|         10|  POPLATEK MESICNE|930107|\n",
      "+----------+-----------+------------------+------+\n",
      "only showing top 20 rows\n",
      "\n"
     ]
    }
   ],
   "source": [
    "df.show()"
   ]
  },
  {
   "cell_type": "code",
   "execution_count": 7,
   "metadata": {},
   "outputs": [
    {
     "name": "stdout",
     "output_type": "stream",
     "text": [
      "root\n",
      " |-- account_id: integer (nullable = true)\n",
      " |-- district_id: integer (nullable = true)\n",
      " |-- frequency: string (nullable = true)\n",
      " |-- date: integer (nullable = true)\n",
      "\n"
     ]
    }
   ],
   "source": [
    "df.printSchema()"
   ]
  },
  {
   "cell_type": "code",
   "execution_count": 10,
   "metadata": {},
   "outputs": [
    {
     "name": "stdout",
     "output_type": "stream",
     "text": [
      "+---------+\n",
      "|min(date)|\n",
      "+---------+\n",
      "|   930101|\n",
      "+---------+\n",
      "\n"
     ]
    }
   ],
   "source": [
    "# retrieve minimum.\n",
    "df.groupby().min('date').show()"
   ]
  },
  {
   "cell_type": "code",
   "execution_count": 56,
   "metadata": {},
   "outputs": [
    {
     "name": "stdout",
     "output_type": "stream",
     "text": [
      "+-----------+------------------+---------+\n",
      "|district_id|         frequency|min(date)|\n",
      "+-----------+------------------+---------+\n",
      "|          1|POPLATEK PO OBRATU|   930103|\n",
      "|         13|POPLATEK PO OBRATU|   930216|\n",
      "|         52|  POPLATEK MESICNE|   930121|\n",
      "|         65|  POPLATEK MESICNE|   930316|\n",
      "|         57|  POPLATEK MESICNE|   930418|\n",
      "|         68|    POPLATEK TYDNE|   930510|\n",
      "|         77|  POPLATEK MESICNE|   930102|\n",
      "|         31|  POPLATEK MESICNE|   930213|\n",
      "|         75|  POPLATEK MESICNE|   930124|\n",
      "|         74|  POPLATEK MESICNE|   930101|\n",
      "|         30|  POPLATEK MESICNE|   930127|\n",
      "|         31|    POPLATEK TYDNE|   940522|\n",
      "|          9|    POPLATEK TYDNE|   960226|\n",
      "|         69|  POPLATEK MESICNE|   930220|\n",
      "|         43|    POPLATEK TYDNE|   930526|\n",
      "|         18|  POPLATEK MESICNE|   930726|\n",
      "|         27|  POPLATEK MESICNE|   930127|\n",
      "|          1|  POPLATEK MESICNE|   930108|\n",
      "|         69|POPLATEK PO OBRATU|   941117|\n",
      "|         76|    POPLATEK TYDNE|   931223|\n",
      "+-----------+------------------+---------+\n",
      "only showing top 20 rows\n",
      "\n"
     ]
    }
   ],
   "source": [
    "df.groupby('district_id', 'frequency').min('date').show()"
   ]
  },
  {
   "cell_type": "code",
   "execution_count": 11,
   "metadata": {},
   "outputs": [],
   "source": [
    "df.registerTempTable(\"accounts\")"
   ]
  },
  {
   "cell_type": "code",
   "execution_count": 12,
   "metadata": {},
   "outputs": [
    {
     "name": "stdout",
     "output_type": "stream",
     "text": [
      "+--------+--------+\n",
      "|min_date|max_date|\n",
      "+--------+--------+\n",
      "|  930101|  971229|\n",
      "+--------+--------+\n",
      "\n"
     ]
    }
   ],
   "source": [
    "spark.sql('select min(date) as min_date, max(date) as max_date from accounts').show()"
   ]
  },
  {
   "cell_type": "code",
   "execution_count": 13,
   "metadata": {},
   "outputs": [
    {
     "name": "stdout",
     "output_type": "stream",
     "text": [
      "+-------+------------------+\n",
      "|summary|              date|\n",
      "+-------+------------------+\n",
      "|  count|              4500|\n",
      "|   mean| 951654.6086666667|\n",
      "| stddev|14842.188376633594|\n",
      "|    min|            930101|\n",
      "|    max|            971229|\n",
      "+-------+------------------+\n",
      "\n"
     ]
    }
   ],
   "source": [
    "df.describe('date').show()"
   ]
  },
  {
   "cell_type": "code",
   "execution_count": 16,
   "metadata": {},
   "outputs": [
    {
     "data": {
      "text/plain": [
       "[Row(summary='stddev', date='14842.188376633594')]"
      ]
     },
     "execution_count": 16,
     "metadata": {},
     "output_type": "execute_result"
    }
   ],
   "source": [
    "df.describe('date').filter(\"summary = 'stddev'\").collect()"
   ]
  },
  {
   "cell_type": "code",
   "execution_count": 21,
   "metadata": {},
   "outputs": [
    {
     "data": {
      "text/plain": [
       "14842.188376633594"
      ]
     },
     "execution_count": 21,
     "metadata": {},
     "output_type": "execute_result"
    }
   ],
   "source": [
    "# retreiving stddev as a float.\n",
    "float(df.describe('date').filter(\"summary = 'stddev'\").collect()[0].asDict()['date'])"
   ]
  },
  {
   "cell_type": "code",
   "execution_count": 24,
   "metadata": {},
   "outputs": [
    {
     "data": {
      "text/plain": [
       "[931227.0, 960102.0, 961101.0]"
      ]
     },
     "execution_count": 24,
     "metadata": {},
     "output_type": "execute_result"
    }
   ],
   "source": [
    "# get quantiles.\n",
    "df.stat.approxQuantile(\"date\", [0.25,0.5,0.75],0.0)"
   ]
  },
  {
   "cell_type": "code",
   "execution_count": 54,
   "metadata": {},
   "outputs": [
    {
     "name": "stdout",
     "output_type": "stream",
     "text": [
      "+---------+\n",
      "|max(date)|\n",
      "+---------+\n",
      "|   971229|\n",
      "+---------+\n",
      "\n"
     ]
    }
   ],
   "source": [
    "df.agg({'date': 'max'}).show()"
   ]
  },
  {
   "cell_type": "code",
   "execution_count": 37,
   "metadata": {},
   "outputs": [],
   "source": [
    "# save file as parquet.\n",
    "df.write.parquet('s3://justinngbucket/accounts5.parquet')"
   ]
  },
  {
   "cell_type": "code",
   "execution_count": 38,
   "metadata": {},
   "outputs": [
    {
     "name": "stdout",
     "output_type": "stream",
     "text": [
      "+----------+-----------+------------------+------+\n",
      "|account_id|district_id|         frequency|  date|\n",
      "+----------+-----------+------------------+------+\n",
      "|       576|         55|  POPLATEK MESICNE|930101|\n",
      "|      3818|         74|  POPLATEK MESICNE|930101|\n",
      "|       704|         55|  POPLATEK MESICNE|930101|\n",
      "|      2378|         16|  POPLATEK MESICNE|930101|\n",
      "|      2632|         24|  POPLATEK MESICNE|930102|\n",
      "|      1972|         77|  POPLATEK MESICNE|930102|\n",
      "|      1539|          1|POPLATEK PO OBRATU|930103|\n",
      "|       793|         47|  POPLATEK MESICNE|930103|\n",
      "|      2484|         74|  POPLATEK MESICNE|930103|\n",
      "|      1695|         76|  POPLATEK MESICNE|930103|\n",
      "|      1726|         48|  POPLATEK MESICNE|930103|\n",
      "|      2881|         70|  POPLATEK MESICNE|930104|\n",
      "|      2357|         19|  POPLATEK MESICNE|930104|\n",
      "|      2177|         62|  POPLATEK MESICNE|930104|\n",
      "|       485|          6|POPLATEK PO OBRATU|930104|\n",
      "|       652|         21|  POPLATEK MESICNE|930105|\n",
      "|      9635|         70|  POPLATEK MESICNE|930105|\n",
      "|      1844|         44|  POPLATEK MESICNE|930106|\n",
      "|      1926|         37|  POPLATEK MESICNE|930106|\n",
      "|      2393|         10|  POPLATEK MESICNE|930107|\n",
      "+----------+-----------+------------------+------+\n",
      "only showing top 20 rows\n",
      "\n"
     ]
    }
   ],
   "source": [
    "# select directly from parquet file.\n",
    "spark.sql(\"SELECT * FROM parquet.`s3://justinngbucket/accounts5.parquet`\").show()"
   ]
  },
  {
   "cell_type": "code",
   "execution_count": 41,
   "metadata": {},
   "outputs": [
    {
     "data": {
      "text/plain": [
       "DataFrame[account_id: int, district_id: int, frequency: string, date: int]"
      ]
     },
     "execution_count": 41,
     "metadata": {},
     "output_type": "execute_result"
    }
   ],
   "source": [
    "# caching into memory. \n",
    "# cache -> persist(StorageLevel.MEMORY_ONLY)\n",
    "df.cache()"
   ]
  },
  {
   "cell_type": "code",
   "execution_count": 47,
   "metadata": {},
   "outputs": [
    {
     "data": {
      "text/plain": [
       "DataFrame[account_id: int, district_id: int, frequency: string, date: int]"
      ]
     },
     "execution_count": 47,
     "metadata": {},
     "output_type": "execute_result"
    }
   ],
   "source": [
    "# persist using memory and disk.\n",
    "from pyspark import StorageLevel\n",
    "df.persist(StorageLevel.MEMORY_AND_DISK)"
   ]
  },
  {
   "cell_type": "code",
   "execution_count": 44,
   "metadata": {},
   "outputs": [
    {
     "data": {
      "text/plain": [
       "DataFrame[account_id: int, district_id: int, frequency: string, date: int]"
      ]
     },
     "execution_count": 44,
     "metadata": {},
     "output_type": "execute_result"
    }
   ],
   "source": [
    "df.unpersist()"
   ]
  },
  {
   "cell_type": "code",
   "execution_count": 50,
   "metadata": {},
   "outputs": [
    {
     "data": {
      "text/plain": [
       "Column<b'account_id'>"
      ]
     },
     "execution_count": 50,
     "metadata": {},
     "output_type": "execute_result"
    }
   ],
   "source": [
    "df.account_id"
   ]
  },
  {
   "cell_type": "code",
   "execution_count": 57,
   "metadata": {},
   "outputs": [
    {
     "data": {
      "text/plain": [
       "-0.017291702248228277"
      ]
     },
     "execution_count": 57,
     "metadata": {},
     "output_type": "execute_result"
    }
   ],
   "source": [
    "df.corr('district_id', 'date')"
   ]
  },
  {
   "cell_type": "code",
   "execution_count": 58,
   "metadata": {},
   "outputs": [
    {
     "data": {
      "text/plain": [
       "4500"
      ]
     },
     "execution_count": 58,
     "metadata": {},
     "output_type": "execute_result"
    }
   ],
   "source": [
    "df.count()"
   ]
  },
  {
   "cell_type": "code",
   "execution_count": 61,
   "metadata": {},
   "outputs": [
    {
     "name": "stdout",
     "output_type": "stream",
     "text": [
      "+--------+\n",
      "|num_rows|\n",
      "+--------+\n",
      "|    4500|\n",
      "+--------+\n",
      "\n"
     ]
    }
   ],
   "source": [
    "spark.sql('select count(*) as num_rows from accounts').show()"
   ]
  },
  {
   "cell_type": "code",
   "execution_count": 63,
   "metadata": {},
   "outputs": [
    {
     "name": "stdout",
     "output_type": "stream",
     "text": [
      "+---------------------+----------------+------------------+--------------+\n",
      "|district_id_frequency|POPLATEK MESICNE|POPLATEK PO OBRATU|POPLATEK TYDNE|\n",
      "+---------------------+----------------+------------------+--------------+\n",
      "|                   69|              43|                 1|             4|\n",
      "|                    5|              60|                 0|             5|\n",
      "|                   10|              46|                 1|             1|\n",
      "|                   56|              40|                 2|             2|\n",
      "|                   42|              45|                 2|             1|\n",
      "|                   24|              39|                 2|             1|\n",
      "|                   37|              34|                 1|             2|\n",
      "|                   25|              40|                 0|             2|\n",
      "|                   52|              50|                 4|             3|\n",
      "|                   14|              37|                 1|             3|\n",
      "|                   20|              33|                 0|             3|\n",
      "|                   46|              56|                 1|             2|\n",
      "|                   57|              37|                 2|             2|\n",
      "|                   29|              39|                 1|             3|\n",
      "|                   61|              41|                 3|             1|\n",
      "|                    1|             509|                 9|            36|\n",
      "|                   74|             124|                 4|             7|\n",
      "|                    6|              39|                 2|             7|\n",
      "|                   60|              50|                 0|             1|\n",
      "|                   28|              43|                 1|             1|\n",
      "+---------------------+----------------+------------------+--------------+\n",
      "only showing top 20 rows\n",
      "\n"
     ]
    }
   ],
   "source": [
    "df.crosstab('district_id', 'frequency').show()"
   ]
  },
  {
   "cell_type": "code",
   "execution_count": 67,
   "metadata": {},
   "outputs": [
    {
     "name": "stdout",
     "output_type": "stream",
     "text": [
      "+-----------+------------------+-----+\n",
      "|district_id|         frequency|count|\n",
      "+-----------+------------------+-----+\n",
      "|       null|              null| 4500|\n",
      "|       null|  POPLATEK MESICNE| 4167|\n",
      "|       null|POPLATEK PO OBRATU|   93|\n",
      "|       null|    POPLATEK TYDNE|  240|\n",
      "|          1|              null|  554|\n",
      "|          1|  POPLATEK MESICNE|  509|\n",
      "|          1|POPLATEK PO OBRATU|    9|\n",
      "|          1|    POPLATEK TYDNE|   36|\n",
      "|          2|              null|   42|\n",
      "|          2|  POPLATEK MESICNE|   37|\n",
      "|          2|POPLATEK PO OBRATU|    2|\n",
      "|          2|    POPLATEK TYDNE|    3|\n",
      "|          3|              null|   50|\n",
      "|          3|  POPLATEK MESICNE|   47|\n",
      "|          3|    POPLATEK TYDNE|    3|\n",
      "|          4|              null|   48|\n",
      "|          4|  POPLATEK MESICNE|   44|\n",
      "|          4|POPLATEK PO OBRATU|    2|\n",
      "|          4|    POPLATEK TYDNE|    2|\n",
      "|          5|              null|   65|\n",
      "+-----------+------------------+-----+\n",
      "only showing top 20 rows\n",
      "\n"
     ]
    }
   ],
   "source": [
    "df.cube('district_id', 'frequency').count().orderBy(\"district_id\", \"frequency\").show()"
   ]
  },
  {
   "cell_type": "code",
   "execution_count": 71,
   "metadata": {},
   "outputs": [
    {
     "name": "stdout",
     "output_type": "stream",
     "text": [
      "+--------+\n",
      "|count(1)|\n",
      "+--------+\n",
      "|       0|\n",
      "+--------+\n",
      "\n"
     ]
    }
   ],
   "source": [
    "spark.sql('select count(*) from accounts where frequency is null').show()"
   ]
  },
  {
   "cell_type": "code",
   "execution_count": 80,
   "metadata": {},
   "outputs": [
    {
     "name": "stdout",
     "output_type": "stream",
     "text": [
      "+----------+----------------+\n",
      "|account_id|       frequency|\n",
      "+----------+----------------+\n",
      "|      3818|POPLATEK MESICNE|\n",
      "|      2648|POPLATEK MESICNE|\n",
      "|      1337|POPLATEK MESICNE|\n",
      "|      8759|POPLATEK MESICNE|\n",
      "|       198|POPLATEK MESICNE|\n",
      "|      3479|POPLATEK MESICNE|\n",
      "|      5735|POPLATEK MESICNE|\n",
      "|      3297|POPLATEK MESICNE|\n",
      "|       720|POPLATEK MESICNE|\n",
      "|      8327|  POPLATEK TYDNE|\n",
      "|      2674|POPLATEK MESICNE|\n",
      "|      1581|POPLATEK MESICNE|\n",
      "|      3389|POPLATEK MESICNE|\n",
      "|       631|POPLATEK MESICNE|\n",
      "|      3015|POPLATEK MESICNE|\n",
      "|      3848|POPLATEK MESICNE|\n",
      "|      5250|  POPLATEK TYDNE|\n",
      "|      1500|POPLATEK MESICNE|\n",
      "|      3043|POPLATEK MESICNE|\n",
      "|      3262|POPLATEK MESICNE|\n",
      "+----------+----------------+\n",
      "only showing top 20 rows\n",
      "\n"
     ]
    }
   ],
   "source": [
    "df.select('account_id', 'frequency').distinct().show()"
   ]
  },
  {
   "cell_type": "code",
   "execution_count": 83,
   "metadata": {},
   "outputs": [
    {
     "data": {
      "text/plain": [
       "4500"
      ]
     },
     "execution_count": 83,
     "metadata": {},
     "output_type": "execute_result"
    }
   ],
   "source": [
    "df.dropna(how='any').count()"
   ]
  },
  {
   "cell_type": "code",
   "execution_count": 82,
   "metadata": {},
   "outputs": [
    {
     "data": {
      "text/plain": [
       "[('account_id', 'int'),\n",
       " ('district_id', 'int'),\n",
       " ('frequency', 'string'),\n",
       " ('date', 'int')]"
      ]
     },
     "execution_count": 82,
     "metadata": {},
     "output_type": "execute_result"
    }
   ],
   "source": [
    "df.dtypes"
   ]
  },
  {
   "cell_type": "code",
   "execution_count": 84,
   "metadata": {},
   "outputs": [
    {
     "data": {
      "text/plain": [
       "DataFrame[account_id: int, district_id: int, frequency: string, date: int]"
      ]
     },
     "execution_count": 84,
     "metadata": {},
     "output_type": "execute_result"
    }
   ],
   "source": [
    "df.fillna(50, ['account_id', 'district_id'])"
   ]
  },
  {
   "cell_type": "code",
   "execution_count": 88,
   "metadata": {},
   "outputs": [
    {
     "name": "stdout",
     "output_type": "stream",
     "text": [
      "+----------+-----------+----------------+------+\n",
      "|account_id|district_id|       frequency|  date|\n",
      "+----------+-----------+----------------+------+\n",
      "|       576|         55|POPLATEK MESICNE|930101|\n",
      "|      3818|         74|POPLATEK MESICNE|930101|\n",
      "|       704|         55|POPLATEK MESICNE|930101|\n",
      "|      2378|         16|POPLATEK MESICNE|930101|\n",
      "+----------+-----------+----------------+------+\n",
      "\n"
     ]
    }
   ],
   "source": [
    "df.filter(\"date = 930101\").show()"
   ]
  },
  {
   "cell_type": "code",
   "execution_count": 90,
   "metadata": {},
   "outputs": [
    {
     "name": "stdout",
     "output_type": "stream",
     "text": [
      "+----------+-----------+----------------+------+\n",
      "|account_id|district_id|       frequency|  date|\n",
      "+----------+-----------+----------------+------+\n",
      "|       576|         55|POPLATEK MESICNE|930101|\n",
      "|      3818|         74|POPLATEK MESICNE|930101|\n",
      "|       704|         55|POPLATEK MESICNE|930101|\n",
      "|      2378|         16|POPLATEK MESICNE|930101|\n",
      "+----------+-----------+----------------+------+\n",
      "\n"
     ]
    }
   ],
   "source": [
    "df.filter(df['date'] == 930101).show()"
   ]
  },
  {
   "cell_type": "code",
   "execution_count": 95,
   "metadata": {},
   "outputs": [],
   "source": [
    "# this doesn't seem to work.\n",
    "def print_acc(acc):\n",
    "    print(acc.account_id)\n",
    "df.filter(df['date'] == 930101).foreach(print_acc)"
   ]
  },
  {
   "cell_type": "code",
   "execution_count": 101,
   "metadata": {},
   "outputs": [
    {
     "name": "stdout",
     "output_type": "stream",
     "text": [
      "+--------------------+\n",
      "|      date_freqItems|\n",
      "+--------------------+\n",
      "|[971114, 970504, ...|\n",
      "+--------------------+\n",
      "\n"
     ]
    }
   ],
   "source": [
    "# getting the frequent items (possible false positives)\n",
    "df.freqItems(['date'], support=None).show()"
   ]
  },
  {
   "cell_type": "code",
   "execution_count": 102,
   "metadata": {},
   "outputs": [],
   "source": [
    "df_trans = spark.read.format('csv') \\\n",
    "          .option('header', 'true') \\\n",
    "          .option('delimiter', ';') \\\n",
    "          .option('inferschema', 'true') \\\n",
    "          .load('s3://justinngbucket/Data/berka_dataset/trans.asc')"
   ]
  },
  {
   "cell_type": "code",
   "execution_count": 103,
   "metadata": {},
   "outputs": [
    {
     "data": {
      "text/plain": [
       "[('trans_id', 'int'),\n",
       " ('account_id', 'int'),\n",
       " ('date', 'int'),\n",
       " ('type', 'string'),\n",
       " ('operation', 'string'),\n",
       " ('amount', 'double'),\n",
       " ('balance', 'double'),\n",
       " ('k_symbol', 'string'),\n",
       " ('bank', 'string'),\n",
       " ('account', 'int')]"
      ]
     },
     "execution_count": 103,
     "metadata": {},
     "output_type": "execute_result"
    }
   ],
   "source": [
    "df_trans.dtypes"
   ]
  },
  {
   "cell_type": "code",
   "execution_count": 105,
   "metadata": {},
   "outputs": [
    {
     "name": "stdout",
     "output_type": "stream",
     "text": [
      "+--------+----------+------+------+-------------+------+-------+--------+----+--------+\n",
      "|trans_id|account_id|  date|  type|    operation|amount|balance|k_symbol|bank| account|\n",
      "+--------+----------+------+------+-------------+------+-------+--------+----+--------+\n",
      "|  695247|      2378|930101|PRIJEM|        VKLAD| 700.0|  700.0|    null|null|    null|\n",
      "|  171812|       576|930101|PRIJEM|        VKLAD| 900.0|  900.0|    null|null|    null|\n",
      "|  207264|       704|930101|PRIJEM|        VKLAD|1000.0| 1000.0|    null|null|    null|\n",
      "| 1117247|      3818|930101|PRIJEM|        VKLAD| 600.0|  600.0|    null|null|    null|\n",
      "|  579373|      1972|930102|PRIJEM|        VKLAD| 400.0|  400.0|    null|null|    null|\n",
      "|  771035|      2632|930102|PRIJEM|        VKLAD|1100.0| 1100.0|    null|null|    null|\n",
      "|  452728|      1539|930103|PRIJEM|        VKLAD| 600.0|  600.0|    null|null|    null|\n",
      "|  725751|      2484|930103|PRIJEM|        VKLAD|1100.0| 1100.0|    null|null|    null|\n",
      "|  497211|      1695|930103|PRIJEM|        VKLAD| 200.0|  200.0|    null|null|    null|\n",
      "|  232960|       793|930103|PRIJEM|        VKLAD| 800.0|  800.0|    null|null|    null|\n",
      "|  505240|      1726|930103|PRIJEM|        VKLAD|1000.0| 1000.0|    null|null|    null|\n",
      "|  144541|       485|930104|PRIJEM|        VKLAD| 300.0|  300.0|    null|null|    null|\n",
      "|  637741|      2177|930104|PRIJEM|        VKLAD| 800.0|  800.0|    null|null|    null|\n",
      "|  689827|      2357|930104|PRIJEM|        VKLAD| 800.0|  800.0|    null|null|    null|\n",
      "|  846006|      2881|930104|PRIJEM|        VKLAD| 700.0|  700.0|    null|null|    null|\n",
      "|  637742|      2177|930105|PRIJEM|PREVOD Z UCTU|5123.0| 5923.0|  DUCHOD|  YZ|62457513|\n",
      "| 2908688|      9635|930105|PRIJEM|        VKLAD| 400.0|  400.0|    null|null|    null|\n",
      "|  232961|       793|930105|PRIJEM|PREVOD Z UCTU|3401.0| 4201.0|    null|  IJ| 6149286|\n",
      "|  192096|       652|930105|PRIJEM|        VKLAD| 700.0|  700.0|    null|null|    null|\n",
      "|  542215|      1844|930106|PRIJEM|        VKLAD| 500.0|  500.0|    null|null|    null|\n",
      "+--------+----------+------+------+-------------+------+-------+--------+----+--------+\n",
      "only showing top 20 rows\n",
      "\n"
     ]
    }
   ],
   "source": [
    "df_trans.show()"
   ]
  },
  {
   "cell_type": "code",
   "execution_count": 116,
   "metadata": {},
   "outputs": [
    {
     "name": "stdout",
     "output_type": "stream",
     "text": [
      "+----------+-----------+------------------+------+--------+------+------+-------------+------+-------+--------+----+--------+\n",
      "|account_id|district_id|         frequency|  date|trans_id|  date|  type|    operation|amount|balance|k_symbol|bank| account|\n",
      "+----------+-----------+------------------+------+--------+------+------+-------------+------+-------+--------+----+--------+\n",
      "|      2378|         16|  POPLATEK MESICNE|930101|  695247|930101|PRIJEM|        VKLAD| 700.0|  700.0|    null|null|    null|\n",
      "|       576|         55|  POPLATEK MESICNE|930101|  171812|930101|PRIJEM|        VKLAD| 900.0|  900.0|    null|null|    null|\n",
      "|       704|         55|  POPLATEK MESICNE|930101|  207264|930101|PRIJEM|        VKLAD|1000.0| 1000.0|    null|null|    null|\n",
      "|      3818|         74|  POPLATEK MESICNE|930101| 1117247|930101|PRIJEM|        VKLAD| 600.0|  600.0|    null|null|    null|\n",
      "|      1972|         77|  POPLATEK MESICNE|930102|  579373|930102|PRIJEM|        VKLAD| 400.0|  400.0|    null|null|    null|\n",
      "|      2632|         24|  POPLATEK MESICNE|930102|  771035|930102|PRIJEM|        VKLAD|1100.0| 1100.0|    null|null|    null|\n",
      "|      1539|          1|POPLATEK PO OBRATU|930103|  452728|930103|PRIJEM|        VKLAD| 600.0|  600.0|    null|null|    null|\n",
      "|      2484|         74|  POPLATEK MESICNE|930103|  725751|930103|PRIJEM|        VKLAD|1100.0| 1100.0|    null|null|    null|\n",
      "|      1695|         76|  POPLATEK MESICNE|930103|  497211|930103|PRIJEM|        VKLAD| 200.0|  200.0|    null|null|    null|\n",
      "|       793|         47|  POPLATEK MESICNE|930103|  232960|930103|PRIJEM|        VKLAD| 800.0|  800.0|    null|null|    null|\n",
      "|      1726|         48|  POPLATEK MESICNE|930103|  505240|930103|PRIJEM|        VKLAD|1000.0| 1000.0|    null|null|    null|\n",
      "|       485|          6|POPLATEK PO OBRATU|930104|  144541|930104|PRIJEM|        VKLAD| 300.0|  300.0|    null|null|    null|\n",
      "|      2177|         62|  POPLATEK MESICNE|930104|  637741|930104|PRIJEM|        VKLAD| 800.0|  800.0|    null|null|    null|\n",
      "|      2357|         19|  POPLATEK MESICNE|930104|  689827|930104|PRIJEM|        VKLAD| 800.0|  800.0|    null|null|    null|\n",
      "|      2881|         70|  POPLATEK MESICNE|930104|  846006|930104|PRIJEM|        VKLAD| 700.0|  700.0|    null|null|    null|\n",
      "|      2177|         62|  POPLATEK MESICNE|930104|  637742|930105|PRIJEM|PREVOD Z UCTU|5123.0| 5923.0|  DUCHOD|  YZ|62457513|\n",
      "|      9635|         70|  POPLATEK MESICNE|930105| 2908688|930105|PRIJEM|        VKLAD| 400.0|  400.0|    null|null|    null|\n",
      "|       793|         47|  POPLATEK MESICNE|930103|  232961|930105|PRIJEM|PREVOD Z UCTU|3401.0| 4201.0|    null|  IJ| 6149286|\n",
      "|       652|         21|  POPLATEK MESICNE|930105|  192096|930105|PRIJEM|        VKLAD| 700.0|  700.0|    null|null|    null|\n",
      "|      1844|         44|  POPLATEK MESICNE|930106|  542215|930106|PRIJEM|        VKLAD| 500.0|  500.0|    null|null|    null|\n",
      "+----------+-----------+------------------+------+--------+------+------+-------------+------+-------+--------+----+--------+\n",
      "only showing top 20 rows\n",
      "\n"
     ]
    }
   ],
   "source": [
    "df2 = df.join(df_trans, ['account_id'], 'inner')\n",
    "df2.show()"
   ]
  },
  {
   "cell_type": "code",
   "execution_count": 110,
   "metadata": {},
   "outputs": [
    {
     "data": {
      "text/plain": [
       "1056320"
      ]
     },
     "execution_count": 110,
     "metadata": {},
     "output_type": "execute_result"
    }
   ],
   "source": [
    "df2.count()"
   ]
  },
  {
   "cell_type": "code",
   "execution_count": 111,
   "metadata": {},
   "outputs": [
    {
     "data": {
      "text/plain": [
       "1056320"
      ]
     },
     "execution_count": 111,
     "metadata": {},
     "output_type": "execute_result"
    }
   ],
   "source": [
    "df_trans.count()"
   ]
  },
  {
   "cell_type": "code",
   "execution_count": 112,
   "metadata": {},
   "outputs": [],
   "source": [
    "df_trans.registerTempTable(\"trans\")"
   ]
  },
  {
   "cell_type": "code",
   "execution_count": 133,
   "metadata": {},
   "outputs": [
    {
     "name": "stdout",
     "output_type": "stream",
     "text": [
      "+-----------+------------------+--------+----------+------+------+-------------+------+-------+--------+----+--------+\n",
      "|district_id|         frequency|trans_id|account_id|  date|  type|    operation|amount|balance|k_symbol|bank| account|\n",
      "+-----------+------------------+--------+----------+------+------+-------------+------+-------+--------+----+--------+\n",
      "|         16|  POPLATEK MESICNE|  695247|      2378|930101|PRIJEM|        VKLAD| 700.0|  700.0|    null|null|    null|\n",
      "|         55|  POPLATEK MESICNE|  171812|       576|930101|PRIJEM|        VKLAD| 900.0|  900.0|    null|null|    null|\n",
      "|         55|  POPLATEK MESICNE|  207264|       704|930101|PRIJEM|        VKLAD|1000.0| 1000.0|    null|null|    null|\n",
      "|         74|  POPLATEK MESICNE| 1117247|      3818|930101|PRIJEM|        VKLAD| 600.0|  600.0|    null|null|    null|\n",
      "|         77|  POPLATEK MESICNE|  579373|      1972|930102|PRIJEM|        VKLAD| 400.0|  400.0|    null|null|    null|\n",
      "|         24|  POPLATEK MESICNE|  771035|      2632|930102|PRIJEM|        VKLAD|1100.0| 1100.0|    null|null|    null|\n",
      "|          1|POPLATEK PO OBRATU|  452728|      1539|930103|PRIJEM|        VKLAD| 600.0|  600.0|    null|null|    null|\n",
      "|         74|  POPLATEK MESICNE|  725751|      2484|930103|PRIJEM|        VKLAD|1100.0| 1100.0|    null|null|    null|\n",
      "|         76|  POPLATEK MESICNE|  497211|      1695|930103|PRIJEM|        VKLAD| 200.0|  200.0|    null|null|    null|\n",
      "|         47|  POPLATEK MESICNE|  232960|       793|930103|PRIJEM|        VKLAD| 800.0|  800.0|    null|null|    null|\n",
      "|         48|  POPLATEK MESICNE|  505240|      1726|930103|PRIJEM|        VKLAD|1000.0| 1000.0|    null|null|    null|\n",
      "|          6|POPLATEK PO OBRATU|  144541|       485|930104|PRIJEM|        VKLAD| 300.0|  300.0|    null|null|    null|\n",
      "|         62|  POPLATEK MESICNE|  637741|      2177|930104|PRIJEM|        VKLAD| 800.0|  800.0|    null|null|    null|\n",
      "|         19|  POPLATEK MESICNE|  689827|      2357|930104|PRIJEM|        VKLAD| 800.0|  800.0|    null|null|    null|\n",
      "|         70|  POPLATEK MESICNE|  846006|      2881|930104|PRIJEM|        VKLAD| 700.0|  700.0|    null|null|    null|\n",
      "|         62|  POPLATEK MESICNE|  637742|      2177|930105|PRIJEM|PREVOD Z UCTU|5123.0| 5923.0|  DUCHOD|  YZ|62457513|\n",
      "|         70|  POPLATEK MESICNE| 2908688|      9635|930105|PRIJEM|        VKLAD| 400.0|  400.0|    null|null|    null|\n",
      "|         47|  POPLATEK MESICNE|  232961|       793|930105|PRIJEM|PREVOD Z UCTU|3401.0| 4201.0|    null|  IJ| 6149286|\n",
      "|         21|  POPLATEK MESICNE|  192096|       652|930105|PRIJEM|        VKLAD| 700.0|  700.0|    null|null|    null|\n",
      "|         44|  POPLATEK MESICNE|  542215|      1844|930106|PRIJEM|        VKLAD| 500.0|  500.0|    null|null|    null|\n",
      "+-----------+------------------+--------+----------+------+------+-------------+------+-------+--------+----+--------+\n",
      "only showing top 20 rows\n",
      "\n"
     ]
    }
   ],
   "source": [
    "# sql way of joining.\n",
    "df2 = spark.sql(\"select acc.district_id, acc.frequency, t.* from accounts acc inner join trans t on acc.account_id = t.account_id\")\n",
    "df2.show()"
   ]
  },
  {
   "cell_type": "code",
   "execution_count": 134,
   "metadata": {},
   "outputs": [],
   "source": [
    "splits = df2.randomSplit([0.5, 0.5], 24)"
   ]
  },
  {
   "cell_type": "code",
   "execution_count": 135,
   "metadata": {},
   "outputs": [
    {
     "data": {
      "text/plain": [
       "528267"
      ]
     },
     "execution_count": 135,
     "metadata": {},
     "output_type": "execute_result"
    }
   ],
   "source": [
    "splits[0].count()"
   ]
  },
  {
   "cell_type": "code",
   "execution_count": 136,
   "metadata": {},
   "outputs": [
    {
     "data": {
      "text/plain": [
       "528053"
      ]
     },
     "execution_count": 136,
     "metadata": {},
     "output_type": "execute_result"
    }
   ],
   "source": [
    "splits[1].count()"
   ]
  },
  {
   "cell_type": "code",
   "execution_count": 137,
   "metadata": {},
   "outputs": [
    {
     "data": {
      "text/plain": [
       "4"
      ]
     },
     "execution_count": 137,
     "metadata": {},
     "output_type": "execute_result"
    }
   ],
   "source": [
    "df2.rdd.getNumPartitions()"
   ]
  },
  {
   "cell_type": "code",
   "execution_count": 138,
   "metadata": {},
   "outputs": [
    {
     "name": "stdout",
     "output_type": "stream",
     "text": [
      "+------+\n",
      "|  type|\n",
      "+------+\n",
      "| VYDAJ|\n",
      "|PRIJEM|\n",
      "| VYBER|\n",
      "+------+\n",
      "\n"
     ]
    }
   ],
   "source": [
    "# get distinct types.\n",
    "df2.select(df2['type']).distinct().show()"
   ]
  },
  {
   "cell_type": "code",
   "execution_count": 140,
   "metadata": {},
   "outputs": [
    {
     "name": "stdout",
     "output_type": "stream",
     "text": [
      "+-----------+------------------+--------+----------+------+------+-------------+------+-------+--------+----+--------+\n",
      "|district_id|         frequency|trans_id|account_id|  date|  type|    operation|amount|balance|k_symbol|bank| account|\n",
      "+-----------+------------------+--------+----------+------+------+-------------+------+-------+--------+----+--------+\n",
      "|         16|  POPLATEK MESICNE|  695247|      2378|930101|CREDIT|        VKLAD| 700.0|  700.0|    null|null|    null|\n",
      "|         55|  POPLATEK MESICNE|  171812|       576|930101|CREDIT|        VKLAD| 900.0|  900.0|    null|null|    null|\n",
      "|         55|  POPLATEK MESICNE|  207264|       704|930101|CREDIT|        VKLAD|1000.0| 1000.0|    null|null|    null|\n",
      "|         74|  POPLATEK MESICNE| 1117247|      3818|930101|CREDIT|        VKLAD| 600.0|  600.0|    null|null|    null|\n",
      "|         77|  POPLATEK MESICNE|  579373|      1972|930102|CREDIT|        VKLAD| 400.0|  400.0|    null|null|    null|\n",
      "|         24|  POPLATEK MESICNE|  771035|      2632|930102|CREDIT|        VKLAD|1100.0| 1100.0|    null|null|    null|\n",
      "|          1|POPLATEK PO OBRATU|  452728|      1539|930103|CREDIT|        VKLAD| 600.0|  600.0|    null|null|    null|\n",
      "|         74|  POPLATEK MESICNE|  725751|      2484|930103|CREDIT|        VKLAD|1100.0| 1100.0|    null|null|    null|\n",
      "|         76|  POPLATEK MESICNE|  497211|      1695|930103|CREDIT|        VKLAD| 200.0|  200.0|    null|null|    null|\n",
      "|         47|  POPLATEK MESICNE|  232960|       793|930103|CREDIT|        VKLAD| 800.0|  800.0|    null|null|    null|\n",
      "|         48|  POPLATEK MESICNE|  505240|      1726|930103|CREDIT|        VKLAD|1000.0| 1000.0|    null|null|    null|\n",
      "|          6|POPLATEK PO OBRATU|  144541|       485|930104|CREDIT|        VKLAD| 300.0|  300.0|    null|null|    null|\n",
      "|         62|  POPLATEK MESICNE|  637741|      2177|930104|CREDIT|        VKLAD| 800.0|  800.0|    null|null|    null|\n",
      "|         19|  POPLATEK MESICNE|  689827|      2357|930104|CREDIT|        VKLAD| 800.0|  800.0|    null|null|    null|\n",
      "|         70|  POPLATEK MESICNE|  846006|      2881|930104|CREDIT|        VKLAD| 700.0|  700.0|    null|null|    null|\n",
      "|         62|  POPLATEK MESICNE|  637742|      2177|930105|CREDIT|PREVOD Z UCTU|5123.0| 5923.0|  DUCHOD|  YZ|62457513|\n",
      "|         70|  POPLATEK MESICNE| 2908688|      9635|930105|CREDIT|        VKLAD| 400.0|  400.0|    null|null|    null|\n",
      "|         47|  POPLATEK MESICNE|  232961|       793|930105|CREDIT|PREVOD Z UCTU|3401.0| 4201.0|    null|  IJ| 6149286|\n",
      "|         21|  POPLATEK MESICNE|  192096|       652|930105|CREDIT|        VKLAD| 700.0|  700.0|    null|null|    null|\n",
      "|         44|  POPLATEK MESICNE|  542215|      1844|930106|CREDIT|        VKLAD| 500.0|  500.0|    null|null|    null|\n",
      "+-----------+------------------+--------+----------+------+------+-------------+------+-------+--------+----+--------+\n",
      "only showing top 20 rows\n",
      "\n"
     ]
    }
   ],
   "source": [
    "# translating type to English.\n",
    "replace_dict = {'PRIJEM':'CREDIT', 'VYDAJ':'WITHDRAWAL', 'VYBER':'WITHDRAWAL'}\n",
    "df2.replace(replace_dict, subset=['type']).show()\n"
   ]
  },
  {
   "cell_type": "code",
   "execution_count": 141,
   "metadata": {},
   "outputs": [
    {
     "name": "stdout",
     "output_type": "stream",
     "text": [
      "+--------------+\n",
      "|     operation|\n",
      "+--------------+\n",
      "|         VKLAD|\n",
      "|          null|\n",
      "| PREVOD Z UCTU|\n",
      "|  VYBER KARTOU|\n",
      "|PREVOD NA UCET|\n",
      "|         VYBER|\n",
      "+--------------+\n",
      "\n"
     ]
    }
   ],
   "source": [
    "# translating operation to English.\n",
    "df2.select('operation').distinct().show()"
   ]
  },
  {
   "cell_type": "code",
   "execution_count": 142,
   "metadata": {},
   "outputs": [
    {
     "name": "stdout",
     "output_type": "stream",
     "text": [
      "+-----------+------------------+--------+----------+------+------+--------------------+------+-------+--------+----+--------+\n",
      "|district_id|         frequency|trans_id|account_id|  date|  type|           operation|amount|balance|k_symbol|bank| account|\n",
      "+-----------+------------------+--------+----------+------+------+--------------------+------+-------+--------+----+--------+\n",
      "|         16|  POPLATEK MESICNE|  695247|      2378|930101|PRIJEM|      CREDIT_IN_CASH| 700.0|  700.0|    null|null|    null|\n",
      "|         55|  POPLATEK MESICNE|  171812|       576|930101|PRIJEM|      CREDIT_IN_CASH| 900.0|  900.0|    null|null|    null|\n",
      "|         55|  POPLATEK MESICNE|  207264|       704|930101|PRIJEM|      CREDIT_IN_CASH|1000.0| 1000.0|    null|null|    null|\n",
      "|         74|  POPLATEK MESICNE| 1117247|      3818|930101|PRIJEM|      CREDIT_IN_CASH| 600.0|  600.0|    null|null|    null|\n",
      "|         77|  POPLATEK MESICNE|  579373|      1972|930102|PRIJEM|      CREDIT_IN_CASH| 400.0|  400.0|    null|null|    null|\n",
      "|         24|  POPLATEK MESICNE|  771035|      2632|930102|PRIJEM|      CREDIT_IN_CASH|1100.0| 1100.0|    null|null|    null|\n",
      "|          1|POPLATEK PO OBRATU|  452728|      1539|930103|PRIJEM|      CREDIT_IN_CASH| 600.0|  600.0|    null|null|    null|\n",
      "|         74|  POPLATEK MESICNE|  725751|      2484|930103|PRIJEM|      CREDIT_IN_CASH|1100.0| 1100.0|    null|null|    null|\n",
      "|         76|  POPLATEK MESICNE|  497211|      1695|930103|PRIJEM|      CREDIT_IN_CASH| 200.0|  200.0|    null|null|    null|\n",
      "|         47|  POPLATEK MESICNE|  232960|       793|930103|PRIJEM|      CREDIT_IN_CASH| 800.0|  800.0|    null|null|    null|\n",
      "|         48|  POPLATEK MESICNE|  505240|      1726|930103|PRIJEM|      CREDIT_IN_CASH|1000.0| 1000.0|    null|null|    null|\n",
      "|          6|POPLATEK PO OBRATU|  144541|       485|930104|PRIJEM|      CREDIT_IN_CASH| 300.0|  300.0|    null|null|    null|\n",
      "|         62|  POPLATEK MESICNE|  637741|      2177|930104|PRIJEM|      CREDIT_IN_CASH| 800.0|  800.0|    null|null|    null|\n",
      "|         19|  POPLATEK MESICNE|  689827|      2357|930104|PRIJEM|      CREDIT_IN_CASH| 800.0|  800.0|    null|null|    null|\n",
      "|         70|  POPLATEK MESICNE|  846006|      2881|930104|PRIJEM|      CREDIT_IN_CASH| 700.0|  700.0|    null|null|    null|\n",
      "|         62|  POPLATEK MESICNE|  637742|      2177|930105|PRIJEM|COLLECTION_FROM_O...|5123.0| 5923.0|  DUCHOD|  YZ|62457513|\n",
      "|         70|  POPLATEK MESICNE| 2908688|      9635|930105|PRIJEM|      CREDIT_IN_CASH| 400.0|  400.0|    null|null|    null|\n",
      "|         47|  POPLATEK MESICNE|  232961|       793|930105|PRIJEM|COLLECTION_FROM_O...|3401.0| 4201.0|    null|  IJ| 6149286|\n",
      "|         21|  POPLATEK MESICNE|  192096|       652|930105|PRIJEM|      CREDIT_IN_CASH| 700.0|  700.0|    null|null|    null|\n",
      "|         44|  POPLATEK MESICNE|  542215|      1844|930106|PRIJEM|      CREDIT_IN_CASH| 500.0|  500.0|    null|null|    null|\n",
      "+-----------+------------------+--------+----------+------+------+--------------------+------+-------+--------+----+--------+\n",
      "only showing top 20 rows\n",
      "\n"
     ]
    }
   ],
   "source": [
    "replace_dict = {'VYBER KARTOU':'CC_WITHDRAWAL', \n",
    "                'VKLAD':'CREDIT_IN_CASH', \n",
    "                'PREVOD Z UCTU':'COLLECTION_FROM_OTHER_BANK', \n",
    "                'VYBER':'WITHDRAWAL_IN_CASH',\n",
    "                'PREVOD NA UCET':'REMITTANCE_TO_OTHER_BANK'}\n",
    "df2.replace(replace_dict, subset='operation').na.fill('UNKNOWN', subset='operation').show()"
   ]
  },
  {
   "cell_type": "code",
   "execution_count": 147,
   "metadata": {},
   "outputs": [
    {
     "name": "stdout",
     "output_type": "stream",
     "text": [
      "+----------+--------+-----------+-----------+\n",
      "|account_id|trans_id|district_id|NULL_COLUMN|\n",
      "+----------+--------+-----------+-----------+\n",
      "|       576| 3549684|         55|       null|\n",
      "|       576|  171974|         55|       null|\n",
      "|       576|  171956|         55|       null|\n",
      "|       576|  171884|         55|       null|\n",
      "|       576|  172120|         55|       null|\n",
      "|       576|  172107|         55|       null|\n",
      "|       576| 3549683|         55|       null|\n",
      "|       576|  171955|         55|       null|\n",
      "|       576|  171883|         55|       null|\n",
      "|       576|  172119|         55|       null|\n",
      "|       576|  172106|         55|       null|\n",
      "|       576| 3549682|         55|       null|\n",
      "|       576|  171954|         55|       null|\n",
      "|       576|  171882|         55|       null|\n",
      "|       576|  172105|         55|       null|\n",
      "|       576| 3549681|         55|       null|\n",
      "|       576|  171953|         55|       null|\n",
      "|       576|  171881|         55|       null|\n",
      "|       576|  172104|         55|       null|\n",
      "|       576| 3549680|         55|       null|\n",
      "+----------+--------+-----------+-----------+\n",
      "only showing top 20 rows\n",
      "\n"
     ]
    }
   ],
   "source": [
    "# literals.\n",
    "from pyspark.sql.functions import lit\n",
    "\n",
    "df2.select('account_id', 'trans_id', 'district_id').withColumn('NULL_COLUMN', lit(None).cast(StringType())).show()"
   ]
  },
  {
   "cell_type": "code",
   "execution_count": null,
   "metadata": {},
   "outputs": [],
   "source": []
  }
 ],
 "metadata": {
  "kernelspec": {
   "display_name": "Python 3",
   "language": "python",
   "name": "python3"
  },
  "language_info": {
   "codemirror_mode": {
    "name": "ipython",
    "version": 3
   },
   "file_extension": ".py",
   "mimetype": "text/x-python",
   "name": "python",
   "nbconvert_exporter": "python",
   "pygments_lexer": "ipython3",
   "version": "3.4.3"
  }
 },
 "nbformat": 4,
 "nbformat_minor": 2
}
