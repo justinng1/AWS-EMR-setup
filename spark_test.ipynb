{
 "cells": [
  {
   "cell_type": "code",
   "execution_count": 1,
   "metadata": {},
   "outputs": [],
   "source": [
    "import findspark\n",
    "findspark.init()"
   ]
  },
  {
   "cell_type": "code",
   "execution_count": 3,
   "metadata": {},
   "outputs": [],
   "source": [
    "import pyspark\n",
    "import random"
   ]
  },
  {
   "cell_type": "code",
   "execution_count": 5,
   "metadata": {},
   "outputs": [
    {
     "name": "stdout",
     "output_type": "stream",
     "text": [
      "3.1448\n"
     ]
    }
   ],
   "source": [
    "sc = pyspark.SparkContext(appName=\"Pi\")\n",
    "num_samples = 10000\n",
    "def inside(p):     \n",
    "  x, y = random.random(), random.random()\n",
    "  return x*x + y*y < 1\n",
    "count = sc.parallelize(range(0, num_samples)).filter(inside).count()\n",
    "pi = 4 * count / num_samples\n",
    "print(pi)\n",
    "sc.stop()"
   ]
  },
  {
   "cell_type": "code",
   "execution_count": 7,
   "metadata": {},
   "outputs": [
    {
     "data": {
      "text/plain": [
       "ParallelCollectionRDD[0] at parallelize at PythonRDD.scala:489"
      ]
     },
     "execution_count": 7,
     "metadata": {},
     "output_type": "execute_result"
    }
   ],
   "source": [
    "sc = pyspark.SparkContext(appName=\"newsc\")\n",
    "sc.parallelize([1,2,3])"
   ]
  },
  {
   "cell_type": "code",
   "execution_count": 8,
   "metadata": {},
   "outputs": [
    {
     "data": {
      "text/html": [
       "\n",
       "        <div>\n",
       "            <p><b>SparkContext</b></p>\n",
       "\n",
       "            <p><a href=\"http://ip-172-31-22-210.us-west-2.compute.internal:4040\">Spark UI</a></p>\n",
       "\n",
       "            <dl>\n",
       "              <dt>Version</dt>\n",
       "                <dd><code>v2.2.1</code></dd>\n",
       "              <dt>Master</dt>\n",
       "                <dd><code>yarn</code></dd>\n",
       "              <dt>AppName</dt>\n",
       "                <dd><code>newsc</code></dd>\n",
       "            </dl>\n",
       "        </div>\n",
       "        "
      ],
      "text/plain": [
       "<SparkContext master=yarn appName=newsc>"
      ]
     },
     "execution_count": 8,
     "metadata": {},
     "output_type": "execute_result"
    }
   ],
   "source": [
    "sc"
   ]
  },
  {
   "cell_type": "code",
   "execution_count": 11,
   "metadata": {},
   "outputs": [],
   "source": [
    "from pyspark.sql import SparkSession\n",
    "\n",
    "spark = SparkSession \\\n",
    "    .builder \\\n",
    "    .appName(\"Python Spark SQL basic example\") \\\n",
    "    .config(\"spark.some.config.option\", \"some-value\") \\\n",
    "    .getOrCreate()"
   ]
  },
  {
   "cell_type": "code",
   "execution_count": 12,
   "metadata": {},
   "outputs": [
    {
     "data": {
      "text/html": [
       "\n",
       "            <div>\n",
       "                <p><b>SparkSession - in-memory</b></p>\n",
       "                \n",
       "        <div>\n",
       "            <p><b>SparkContext</b></p>\n",
       "\n",
       "            <p><a href=\"http://ip-172-31-22-210.us-west-2.compute.internal:4040\">Spark UI</a></p>\n",
       "\n",
       "            <dl>\n",
       "              <dt>Version</dt>\n",
       "                <dd><code>v2.2.1</code></dd>\n",
       "              <dt>Master</dt>\n",
       "                <dd><code>yarn</code></dd>\n",
       "              <dt>AppName</dt>\n",
       "                <dd><code>newsc</code></dd>\n",
       "            </dl>\n",
       "        </div>\n",
       "        \n",
       "            </div>\n",
       "        "
      ],
      "text/plain": [
       "<pyspark.sql.session.SparkSession at 0x7fdce4135550>"
      ]
     },
     "execution_count": 12,
     "metadata": {},
     "output_type": "execute_result"
    }
   ],
   "source": [
    "spark"
   ]
  },
  {
   "cell_type": "code",
   "execution_count": 28,
   "metadata": {},
   "outputs": [],
   "source": [
    "# reading CSV with custom schema.\n",
    "from pyspark.sql.types import *\n",
    "\n",
    "customSchema = StructType([ \\\n",
    "    StructField(\"account_id\", IntegerType(), True), \\\n",
    "    StructField(\"district_id\", IntegerType(), True), \\\n",
    "    StructField(\"frequency\", StringType(), True), \\\n",
    "    StructField(\"date\", IntegerType(), True)])"
   ]
  },
  {
   "cell_type": "code",
   "execution_count": 32,
   "metadata": {},
   "outputs": [],
   "source": [
    "df = spark.read.format('csv').option('header', 'true').option('delimiter', ';').load('s3://justinngbucket/Data/berka_dataset/account.asc', schema=customSchema)"
   ]
  },
  {
   "cell_type": "code",
   "execution_count": 33,
   "metadata": {},
   "outputs": [
    {
     "name": "stdout",
     "output_type": "stream",
     "text": [
      "+----------+-----------+------------------+------+\n",
      "|account_id|district_id|         frequency|  date|\n",
      "+----------+-----------+------------------+------+\n",
      "|       576|         55|  POPLATEK MESICNE|930101|\n",
      "|      3818|         74|  POPLATEK MESICNE|930101|\n",
      "|       704|         55|  POPLATEK MESICNE|930101|\n",
      "|      2378|         16|  POPLATEK MESICNE|930101|\n",
      "|      2632|         24|  POPLATEK MESICNE|930102|\n",
      "|      1972|         77|  POPLATEK MESICNE|930102|\n",
      "|      1539|          1|POPLATEK PO OBRATU|930103|\n",
      "|       793|         47|  POPLATEK MESICNE|930103|\n",
      "|      2484|         74|  POPLATEK MESICNE|930103|\n",
      "|      1695|         76|  POPLATEK MESICNE|930103|\n",
      "|      1726|         48|  POPLATEK MESICNE|930103|\n",
      "|      2881|         70|  POPLATEK MESICNE|930104|\n",
      "|      2357|         19|  POPLATEK MESICNE|930104|\n",
      "|      2177|         62|  POPLATEK MESICNE|930104|\n",
      "|       485|          6|POPLATEK PO OBRATU|930104|\n",
      "|       652|         21|  POPLATEK MESICNE|930105|\n",
      "|      9635|         70|  POPLATEK MESICNE|930105|\n",
      "|      1844|         44|  POPLATEK MESICNE|930106|\n",
      "|      1926|         37|  POPLATEK MESICNE|930106|\n",
      "|      2393|         10|  POPLATEK MESICNE|930107|\n",
      "+----------+-----------+------------------+------+\n",
      "only showing top 20 rows\n",
      "\n"
     ]
    }
   ],
   "source": [
    "df.show()"
   ]
  },
  {
   "cell_type": "code",
   "execution_count": 34,
   "metadata": {},
   "outputs": [
    {
     "name": "stdout",
     "output_type": "stream",
     "text": [
      "root\n",
      " |-- account_id: integer (nullable = true)\n",
      " |-- district_id: integer (nullable = true)\n",
      " |-- frequency: string (nullable = true)\n",
      " |-- date: integer (nullable = true)\n",
      "\n"
     ]
    }
   ],
   "source": [
    "df.printSchema()"
   ]
  },
  {
   "cell_type": "code",
   "execution_count": 35,
   "metadata": {},
   "outputs": [],
   "source": [
    "# reading csv using infer schema.\n",
    "df = spark.read.format('csv').option('header', 'true').option('delimiter', ';').option('inferschema', 'true').load('s3://justinngbucket/Data/berka_dataset/account.asc')"
   ]
  },
  {
   "cell_type": "code",
   "execution_count": 36,
   "metadata": {},
   "outputs": [
    {
     "name": "stdout",
     "output_type": "stream",
     "text": [
      "root\n",
      " |-- account_id: integer (nullable = true)\n",
      " |-- district_id: integer (nullable = true)\n",
      " |-- frequency: string (nullable = true)\n",
      " |-- date: integer (nullable = true)\n",
      "\n"
     ]
    }
   ],
   "source": [
    "df.printSchema()"
   ]
  },
  {
   "cell_type": "code",
   "execution_count": 37,
   "metadata": {},
   "outputs": [
    {
     "name": "stdout",
     "output_type": "stream",
     "text": [
      "+------+\n",
      "|  date|\n",
      "+------+\n",
      "|930101|\n",
      "|930101|\n",
      "|930101|\n",
      "|930101|\n",
      "|930102|\n",
      "|930102|\n",
      "|930103|\n",
      "|930103|\n",
      "|930103|\n",
      "|930103|\n",
      "|930103|\n",
      "|930104|\n",
      "|930104|\n",
      "|930104|\n",
      "|930104|\n",
      "|930105|\n",
      "|930105|\n",
      "|930106|\n",
      "|930106|\n",
      "|930107|\n",
      "+------+\n",
      "only showing top 20 rows\n",
      "\n"
     ]
    }
   ],
   "source": [
    "df.select('date').show()"
   ]
  },
  {
   "cell_type": "code",
   "execution_count": 38,
   "metadata": {},
   "outputs": [
    {
     "name": "stdout",
     "output_type": "stream",
     "text": [
      "+----------+----------+\n",
      "|account_id|(date + 1)|\n",
      "+----------+----------+\n",
      "|       576|    930102|\n",
      "|      3818|    930102|\n",
      "|       704|    930102|\n",
      "|      2378|    930102|\n",
      "|      2632|    930103|\n",
      "|      1972|    930103|\n",
      "|      1539|    930104|\n",
      "|       793|    930104|\n",
      "|      2484|    930104|\n",
      "|      1695|    930104|\n",
      "|      1726|    930104|\n",
      "|      2881|    930105|\n",
      "|      2357|    930105|\n",
      "|      2177|    930105|\n",
      "|       485|    930105|\n",
      "|       652|    930106|\n",
      "|      9635|    930106|\n",
      "|      1844|    930107|\n",
      "|      1926|    930107|\n",
      "|      2393|    930108|\n",
      "+----------+----------+\n",
      "only showing top 20 rows\n",
      "\n"
     ]
    }
   ],
   "source": [
    "df.select(df['account_id'], df['date'] + 1).show()"
   ]
  },
  {
   "cell_type": "code",
   "execution_count": 39,
   "metadata": {},
   "outputs": [
    {
     "name": "stdout",
     "output_type": "stream",
     "text": [
      "+----------+-----------+----------------+------+\n",
      "|account_id|district_id|       frequency|  date|\n",
      "+----------+-----------+----------------+------+\n",
      "|       576|         55|POPLATEK MESICNE|930101|\n",
      "|      3818|         74|POPLATEK MESICNE|930101|\n",
      "|       704|         55|POPLATEK MESICNE|930101|\n",
      "|      2378|         16|POPLATEK MESICNE|930101|\n",
      "+----------+-----------+----------------+------+\n",
      "\n"
     ]
    }
   ],
   "source": [
    "df.filter(df['date'] == 930101).show()"
   ]
  },
  {
   "cell_type": "code",
   "execution_count": 40,
   "metadata": {},
   "outputs": [
    {
     "name": "stdout",
     "output_type": "stream",
     "text": [
      "+------+-----+\n",
      "|  date|count|\n",
      "+------+-----+\n",
      "|941115|    3|\n",
      "|950810|    1|\n",
      "|960223|    4|\n",
      "|960415|    5|\n",
      "|960713|    6|\n",
      "|971109|    5|\n",
      "|971217|    1|\n",
      "|930709|    4|\n",
      "|931030|    1|\n",
      "|941024|    1|\n",
      "|950827|    6|\n",
      "|951104|    1|\n",
      "|970617|    1|\n",
      "|970708|    4|\n",
      "|930805|    2|\n",
      "|950101|    1|\n",
      "|950108|    1|\n",
      "|950828|    1|\n",
      "|970612|    2|\n",
      "|930102|    2|\n",
      "+------+-----+\n",
      "only showing top 20 rows\n",
      "\n"
     ]
    }
   ],
   "source": [
    "df.groupBy(\"date\").count().show()"
   ]
  },
  {
   "cell_type": "code",
   "execution_count": 41,
   "metadata": {},
   "outputs": [],
   "source": [
    "df.createOrReplaceTempView(\"accounts\")"
   ]
  },
  {
   "cell_type": "code",
   "execution_count": 42,
   "metadata": {},
   "outputs": [
    {
     "name": "stdout",
     "output_type": "stream",
     "text": [
      "+----------+-----------+------------------+------+\n",
      "|account_id|district_id|         frequency|  date|\n",
      "+----------+-----------+------------------+------+\n",
      "|       576|         55|  POPLATEK MESICNE|930101|\n",
      "|      3818|         74|  POPLATEK MESICNE|930101|\n",
      "|       704|         55|  POPLATEK MESICNE|930101|\n",
      "|      2378|         16|  POPLATEK MESICNE|930101|\n",
      "|      2632|         24|  POPLATEK MESICNE|930102|\n",
      "|      1972|         77|  POPLATEK MESICNE|930102|\n",
      "|      1539|          1|POPLATEK PO OBRATU|930103|\n",
      "|       793|         47|  POPLATEK MESICNE|930103|\n",
      "|      2484|         74|  POPLATEK MESICNE|930103|\n",
      "|      1695|         76|  POPLATEK MESICNE|930103|\n",
      "|      1726|         48|  POPLATEK MESICNE|930103|\n",
      "|      2881|         70|  POPLATEK MESICNE|930104|\n",
      "|      2357|         19|  POPLATEK MESICNE|930104|\n",
      "|      2177|         62|  POPLATEK MESICNE|930104|\n",
      "|       485|          6|POPLATEK PO OBRATU|930104|\n",
      "|       652|         21|  POPLATEK MESICNE|930105|\n",
      "|      9635|         70|  POPLATEK MESICNE|930105|\n",
      "|      1844|         44|  POPLATEK MESICNE|930106|\n",
      "|      1926|         37|  POPLATEK MESICNE|930106|\n",
      "|      2393|         10|  POPLATEK MESICNE|930107|\n",
      "+----------+-----------+------------------+------+\n",
      "only showing top 20 rows\n",
      "\n"
     ]
    }
   ],
   "source": [
    "sqlDF = spark.sql(\"SELECT * FROM accounts\")\n",
    "sqlDF.show()"
   ]
  },
  {
   "cell_type": "code",
   "execution_count": null,
   "metadata": {},
   "outputs": [],
   "source": []
  }
 ],
 "metadata": {
  "kernelspec": {
   "display_name": "Python 3",
   "language": "python",
   "name": "python3"
  },
  "language_info": {
   "codemirror_mode": {
    "name": "ipython",
    "version": 3
   },
   "file_extension": ".py",
   "mimetype": "text/x-python",
   "name": "python",
   "nbconvert_exporter": "python",
   "pygments_lexer": "ipython3",
   "version": "3.4.3"
  }
 },
 "nbformat": 4,
 "nbformat_minor": 2
}
